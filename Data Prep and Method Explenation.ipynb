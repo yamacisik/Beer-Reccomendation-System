{
 "cells": [
  {
   "cell_type": "markdown",
   "metadata": {},
   "source": [
    "\n",
    "## Explanation of Matrix Factorization\n",
    "\n",
    "We want to estimate the vectors $b_i$, $u_j$ of length k for each user and beer in our data set. The vector $b_i$ for the the beer will represent to which extent the beer i posseses the factor that are being interested by the users, whereas similarly $u_i$ will represent the which extent user j is interested in these factors.\n",
    "\n",
    "When we take the dot product of these 2 vectors, we can estimate the rating of a specific users on a specific type of beer. \n",
    "\n",
    "\\begin{equation}\n",
    "\\hat{r_{iu}} & = \\ b^T_{i} p_{j}\n",
    "\\end{equation}\n",
    "\n",
    "Assuming our initial rating matrix R has dimensions of $mxn$, we can combine these vectors into two matrices and illustrate the matrix factorization. \n",
    "\n",
    "\\begin{align}\n",
    "\\hat{R} & = \\ UxB^T\n",
    "\\end{align}\n",
    "\n",
    "Where U is a $mxk$ matrix that represent each users assosication with latent factors and B is a $nxk$ matrix that represents each beers association with the latent factors. Gradient Descent to estimate the matrices Q and P. Our loss/objective function for each rating can be defined as:\n",
    "\n",
    "\\begin{align}\n",
    "l_{ij} = (R_{ij}- \\sum_{k=1}^{K}b^T_ip_j)^2\n",
    "\\end{align}\n",
    "\n",
    "Our overall loss and the objective function becomes:\n",
    "\n",
    "\\begin{align}\n",
    "\\min\\limits_{U,B} \\sum_{i,j \\in R} (R_{ij }- \\sum_{k=1}^{K}b^T_ip_j)^2 \n",
    "\\end{align}\n",
    "\n",
    "Adding the regularization to prevent overfitting we have :\n",
    "\n",
    "\\begin{align}\n",
    "\\min\\limits_{U,B} \\sum_{i,j \\in R} (R_{ij }- \\sum_{k=1}^{K}b^T_ip_j)^2 +\\beta(||B|| +||U||)^2\n",
    "\\end{align}\n",
    "\n",
    "\n"
   ]
  },
  {
   "cell_type": "code",
   "execution_count": 1,
   "metadata": {},
   "outputs": [],
   "source": [
    "import pandas as pd \n",
    "import numpy as np\n",
    "from scipy.spatial.distance import cosine\n",
    "from scipy.sparse import csr_matrix, find,lil_matrix\n",
    "import tensorflow as tf\n",
    "import pickle\n",
    "import time"
   ]
  },
  {
   "cell_type": "markdown",
   "metadata": {},
   "source": [
    "## Data Preperation "
   ]
  },
  {
   "cell_type": "code",
   "execution_count": null,
   "metadata": {},
   "outputs": [],
   "source": [
    "df=pd.read_csv(\"final_data.csv\")\n",
    "dfc=df[[\"score_overall\",\"user_id\",\"beer_names\",\"beer_id\",\"brewery_name\"]].dropna()\n",
    "\n",
    "\n",
    "beers=dfc.groupby('beer_id').count().query(\"score_overall >=50\").index\n",
    "users=dfc.groupby('user_id').count().query(\"score_overall >=50\").index\n",
    "df_filtered=dfc[dfc.beer_id.isin(beers)][dfc.user_id.isin(users)]\n",
    "\n",
    "users=pd.factorize(df_filtered.user_id)[0]\n",
    "beers=pd.factorize(df_filtered.beer_id)[0]\n",
    "index_to_userid=dict(zip(users,df_filtered.user_id))\n",
    "index_into_beerid=dict(zip(beers,df_filtered.beer_id))\n",
    "\n",
    "index_into_beerid = {v: k for k, v in index_into_beerid.items()}\n",
    "index_to_userid = {v: k for k, v in index_to_userid.items()}\n",
    "##R=[]\n",
    "R=np.zeros((len(index_into_beerid),len(index_to_userid))).T\n",
    "\n",
    "for index, row in df_filtered.iterrows():\n",
    "    R[index_to_userid[row['user_id']],index_into_beerid[row['beer_id']]]=row['score_overall']\n",
    "    ##R.append((index_to_userid[row['user_id']],index_into_beerid[row['beer_id']],row['score_overall']))\n",
    "    \n",
    "index_into_beerid = {v: k for k, v in index_into_beerid.items()}\n",
    "index_to_userid = {v: k for k, v in index_to_userid.items()}\n",
    "\n",
    "index_into_beername=dict(zip(beers, df_filtered.beer_names+ \" by \"+ df_filtered.brewery_name ))\n",
    "\n",
    "R=np.nan_to_num(R)"
   ]
  },
  {
   "cell_type": "markdown",
   "metadata": {},
   "source": [
    "### Test and Training Set Creation"
   ]
  },
  {
   "cell_type": "code",
   "execution_count": null,
   "metadata": {},
   "outputs": [],
   "source": [
    "\n",
    "## Create Test and Training Set and saving the beers id's and their names to use in the reccomendation app\n",
    "\n",
    "np.random.seed(seed=42)\n",
    "#z_i,z_j,_=find(R>0)\n",
    "z_i,z_j=np.where(R>0)\n",
    "all_data=np.arange(len(z_i))\n",
    "test=np.random.choice(len(all_data),size=len(all_data)//10,replace=False)\n",
    "train=all_data[np.isin(all_data,test,invert=True)]\n",
    "\n",
    "## Test and Training set Tensorflow\n",
    "R_test=R.copy()\n",
    "R_test[z_i[train],z_j[train]]=0\n",
    "R[z_i[test],z_j[test]]=0\n",
    "\n",
    "\n",
    "\n",
    "pickle_out = open(\"beers.pickle\",\"wb\")\n",
    "pickle.dump(index_into_beername, pickle_out)\n",
    "pickle_out.close()\n"
   ]
  }
 ],
 "metadata": {
  "kernelspec": {
   "display_name": "Python [conda env:tensorflow-v1.12]",
   "language": "python",
   "name": "conda-env-tensorflow-v1.12-py"
  },
  "language_info": {
   "codemirror_mode": {
    "name": "ipython",
    "version": 3
   },
   "file_extension": ".py",
   "mimetype": "text/x-python",
   "name": "python",
   "nbconvert_exporter": "python",
   "pygments_lexer": "ipython3",
   "version": "3.6.7"
  }
 },
 "nbformat": 4,
 "nbformat_minor": 2
}
